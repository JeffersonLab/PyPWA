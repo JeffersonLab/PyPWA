{
 "cells": [
  {
   "cell_type": "code",
   "execution_count": 1,
   "outputs": [
    {
     "name": "stderr",
     "output_type": "stream",
     "text": [
      "/home/mark/.anaconda3_install/envs/PyPWA/lib/python3.10/site-packages/tqdm/auto.py:22: TqdmWarning: IProgress not found. Please update jupyter and ipywidgets. See https://ipywidgets.readthedocs.io/en/stable/user_install.html\n",
      "  from .autonotebook import tqdm as notebook_tqdm\n"
     ]
    }
   ],
   "source": [
    "import numpy as np  # Vectorization and arrays\n",
    "import torch as tc  # PyTorch, used for Tensor operations\n",
    "\n",
    "import PyPWA as pwa"
   ],
   "metadata": {
    "collapsed": false,
    "pycharm": {
     "name": "#%%\n"
    }
   }
  },
  {
   "cell_type": "code",
   "execution_count": 2,
   "outputs": [],
   "source": [
    "class NewMinuitGauss2D(pwa.NestedFunction):\n",
    "    \"\"\"\n",
    "    Minuit 2.0 introduced a new way of working with parameters,\n",
    "    by passing the values to the calculate function as a numpy array\n",
    "    instead of has a dictionary of values.\n",
    "\n",
    "    Using values this way is a little more obtuse, but if you have\n",
    "    reached the point in your analysis where you are trying to\n",
    "    squeeze out as much performance from your amplitude as possible,\n",
    "    swapping to Minuit's array parameters could net you a small\n",
    "    performance boost at the cost of transparency.\n",
    "    \"\"\"\n",
    "\n",
    "    USE_MP = False\n",
    "    USE_TORCH = True\n",
    "    device = ...  # type: tc.device\n",
    "\n",
    "    def setup(self, array):\n",
    "        # This example uses Numpy arrays, not Pandas dataframes,\n",
    "        # so we don't need to convert the values here.\n",
    "\n",
    "        self.device = tc.device(f\"cuda:{self.THREAD}\" if self.THREAD >= 0 else \"cpu\")\n",
    "\n",
    "        self.__x = tc.from_numpy(array[\"x\"]).to(self.device)\n",
    "        self.__y = tc.from_numpy(array[\"y\"]).to(self.device)\n",
    "\n",
    "\n",
    "    def calculate(self, array):\n",
    "        \"\"\"\n",
    "        The old params followed a:\n",
    "        {\"A1\": float, \"A2\": float, \"A3\": float, \"A4\": float}\n",
    "        format.\n",
    "\n",
    "        The new params are:\n",
    "        [float, float, float, float]\n",
    "        which corresponds to:\n",
    "        [A1, A2, A3, A4]\n",
    "\n",
    "        \"\"\"\n",
    "        scaling = 1 / ( array[1] * array[3])\n",
    "        left = ((self.__x - array[0])**2)/(array[1]**2)\n",
    "        right = ((self.__y - array[2])**2)/(array[3]**2)\n",
    "        return scaling * tc.exp(-(left + right))"
   ],
   "metadata": {
    "collapsed": false,
    "pycharm": {
     "name": "#%%\n"
    }
   }
  },
  {
   "cell_type": "code",
   "execution_count": 3,
   "outputs": [],
   "source": [
    "# Create basic data with structured numpy arrays\n",
    "flat_data = np.empty(250_000_000, dtype=[('x', 'f8'), ('y', 'f8')])\n",
    "flat_data[\"x\"] = np.random.rand(250_000_000) * 20\n",
    "flat_data[\"y\"] = np.random.rand(250_000_000) * 20"
   ],
   "metadata": {
    "collapsed": false,
    "pycharm": {
     "name": "#%%\n"
    }
   }
  },
  {
   "cell_type": "code",
   "execution_count": 4,
   "outputs": [],
   "source": [
    "simulation_params = np.array([10, 3, 10, 3])\n",
    "rejection = pwa.monte_carlo_simulation(\n",
    "    NewMinuitGauss2D(), flat_data, simulation_params\n",
    ")\n",
    "final = flat_data[rejection]\n",
    "\n",
    "# Simulation uses almost 20Gb of VRAM!\n",
    "# We really do want to release some of that VRAM back\n",
    "tc.cuda.empty_cache()"
   ],
   "metadata": {
    "collapsed": false,
    "pycharm": {
     "name": "#%%\n"
    }
   }
  },
  {
   "cell_type": "code",
   "execution_count": 5,
   "outputs": [
    {
     "name": "stdout",
     "output_type": "stream",
     "text": [
      "Result length is 17669347, 3.53% events were kept, which is  269.61Mb in size.\n"
     ]
    }
   ],
   "source": [
    "print(\n",
    "    f\"Result length is {len(final)}, \"\n",
    "    f\"{(len(final) / 500_000_000) * 100:.2f}% events were kept, \"\n",
    "    f\"which is {final.nbytes / 1048576: .2f}Mb in size.\"\n",
    ")"
   ],
   "metadata": {
    "collapsed": false,
    "pycharm": {
     "name": "#%%\n"
    }
   }
  },
  {
   "cell_type": "code",
   "execution_count": 6,
   "outputs": [
    {
     "data": {
      "text/plain": "┌─────────────────────────────────────────────────────────────────────────┐\n│                                Migrad                                   │\n├──────────────────────────────────┬──────────────────────────────────────┤\n│ FCN = 5.649e+07                  │              Nfcn = 213              │\n│ EDM = 4.99e-05 (Goal: 0.0001)    │                                      │\n├──────────────────────────────────┼──────────────────────────────────────┤\n│          Valid Minimum           │        No Parameters at limit        │\n├──────────────────────────────────┼──────────────────────────────────────┤\n│ Below EDM threshold (goal x 10)  │           Below call limit           │\n├───────────────┬──────────────────┼───────────┬─────────────┬────────────┤\n│  Covariance   │     Hesse ok     │ Accurate  │  Pos. def.  │ Not forced │\n└───────────────┴──────────────────┴───────────┴─────────────┴────────────┘\n┌───┬──────┬───────────┬───────────┬────────────┬────────────┬─────────┬─────────┬───────┐\n│   │ Name │   Value   │ Hesse Err │ Minos Err- │ Minos Err+ │ Limit-  │ Limit+  │ Fixed │\n├───┼──────┼───────────┼───────────┼────────────┼────────────┼─────────┼─────────┼───────┤\n│ 0 │ x0   │  9.9997   │  0.0005   │            │            │   0.1   │         │       │\n│ 1 │ x1   │  3.0000   │  0.0005   │            │            │    1    │         │       │\n│ 2 │ x2   │  9.9994   │  0.0005   │            │            │   0.1   │         │       │\n│ 3 │ x3   │  3.0002   │  0.0005   │            │            │    1    │         │       │\n└───┴──────┴───────────┴───────────┴────────────┴────────────┴─────────┴─────────┴───────┘\n┌────┬─────────────────────────────────────────┐\n│    │        x0        x1        x2        x3 │\n├────┼─────────────────────────────────────────┤\n│ x0 │  2.55e-07  2.22e-10  7.05e-17 -6.11e-20 │\n│ x1 │  2.22e-10  2.55e-07  7.04e-17 -1.41e-16 │\n│ x2 │  7.05e-17  7.04e-17  2.55e-07  2.23e-10 │\n│ x3 │ -6.11e-20 -1.41e-16  2.23e-10  2.55e-07 │\n└────┴─────────────────────────────────────────┘",
      "text/html": "<table>\n    <tr>\n        <th colspan=\"5\" style=\"text-align:center\" title=\"Minimizer\"> Migrad </th>\n    </tr>\n    <tr>\n        <td colspan=\"2\" style=\"text-align:left\" title=\"Minimum value of function\"> FCN = 5.649e+07 </td>\n        <td colspan=\"3\" style=\"text-align:center\" title=\"No. of function evaluations in last call and total number\"> Nfcn = 213 </td>\n    </tr>\n    <tr>\n        <td colspan=\"2\" style=\"text-align:left\" title=\"Estimated distance to minimum and goal\"> EDM = 4.99e-05 (Goal: 0.0001) </td>\n        <td colspan=\"3\" style=\"text-align:center\" title=\"No. of gradient evaluations in last call and total number\">  </td>\n    </tr>\n    <tr>\n        <td colspan=\"2\" style=\"text-align:center;background-color:#92CCA6;color:black\"> Valid Minimum </td>\n        <td colspan=\"3\" style=\"text-align:center;background-color:#92CCA6;color:black\"> No Parameters at limit </td>\n    </tr>\n    <tr>\n        <td colspan=\"2\" style=\"text-align:center;background-color:#92CCA6;color:black\"> Below EDM threshold (goal x 10) </td>\n        <td colspan=\"3\" style=\"text-align:center;background-color:#92CCA6;color:black\"> Below call limit </td>\n    </tr>\n    <tr>\n        <td style=\"text-align:center;background-color:#92CCA6;color:black\"> Covariance </td>\n        <td style=\"text-align:center;background-color:#92CCA6;color:black\"> Hesse ok </td>\n        <td style=\"text-align:center;background-color:#92CCA6;color:black\" title=\"Is covariance matrix accurate?\"> Accurate </td>\n        <td style=\"text-align:center;background-color:#92CCA6;color:black\" title=\"Is covariance matrix positive definite?\"> Pos. def. </td>\n        <td style=\"text-align:center;background-color:#92CCA6;color:black\" title=\"Was positive definiteness enforced by Minuit?\"> Not forced </td>\n    </tr>\n</table><table>\n    <tr>\n        <td></td>\n        <th title=\"Variable name\"> Name </th>\n        <th title=\"Value of parameter\"> Value </th>\n        <th title=\"Hesse error\"> Hesse Error </th>\n        <th title=\"Minos lower error\"> Minos Error- </th>\n        <th title=\"Minos upper error\"> Minos Error+ </th>\n        <th title=\"Lower limit of the parameter\"> Limit- </th>\n        <th title=\"Upper limit of the parameter\"> Limit+ </th>\n        <th title=\"Is the parameter fixed in the fit\"> Fixed </th>\n    </tr>\n    <tr>\n        <th> 0 </th>\n        <td> x0 </td>\n        <td> 9.9997 </td>\n        <td> 0.0005 </td>\n        <td>  </td>\n        <td>  </td>\n        <td> 0.1 </td>\n        <td>  </td>\n        <td>  </td>\n    </tr>\n    <tr>\n        <th> 1 </th>\n        <td> x1 </td>\n        <td> 3.0000 </td>\n        <td> 0.0005 </td>\n        <td>  </td>\n        <td>  </td>\n        <td> 1 </td>\n        <td>  </td>\n        <td>  </td>\n    </tr>\n    <tr>\n        <th> 2 </th>\n        <td> x2 </td>\n        <td> 9.9994 </td>\n        <td> 0.0005 </td>\n        <td>  </td>\n        <td>  </td>\n        <td> 0.1 </td>\n        <td>  </td>\n        <td>  </td>\n    </tr>\n    <tr>\n        <th> 3 </th>\n        <td> x3 </td>\n        <td> 3.0002 </td>\n        <td> 0.0005 </td>\n        <td>  </td>\n        <td>  </td>\n        <td> 1 </td>\n        <td>  </td>\n        <td>  </td>\n    </tr>\n</table><table>\n    <tr>\n        <td></td>\n        <th> x0 </th>\n        <th> x1 </th>\n        <th> x2 </th>\n        <th> x3 </th>\n    </tr>\n    <tr>\n        <th> x0 </th>\n        <td> 2.55e-07 </td>\n        <td style=\"background-color:rgb(250,250,250);color:black\"> 2.22e-10 </td>\n        <td style=\"background-color:rgb(250,250,250);color:black\"> 7.05e-17 </td>\n        <td style=\"background-color:rgb(250,250,250);color:black\"> -6.11e-20 </td>\n    </tr>\n    <tr>\n        <th> x1 </th>\n        <td style=\"background-color:rgb(250,250,250);color:black\"> 2.22e-10 </td>\n        <td> 2.55e-07 </td>\n        <td style=\"background-color:rgb(250,250,250);color:black\"> 7.04e-17 </td>\n        <td style=\"background-color:rgb(250,250,250);color:black\"> -1.41e-16 </td>\n    </tr>\n    <tr>\n        <th> x2 </th>\n        <td style=\"background-color:rgb(250,250,250);color:black\"> 7.05e-17 </td>\n        <td style=\"background-color:rgb(250,250,250);color:black\"> 7.04e-17 </td>\n        <td> 2.55e-07 </td>\n        <td style=\"background-color:rgb(250,250,250);color:black\"> 2.23e-10 </td>\n    </tr>\n    <tr>\n        <th> x3 </th>\n        <td style=\"background-color:rgb(250,250,250);color:black\"> -6.11e-20 </td>\n        <td style=\"background-color:rgb(250,250,250);color:black\"> -1.41e-16 </td>\n        <td style=\"background-color:rgb(250,250,250);color:black\"> 2.23e-10 </td>\n        <td> 2.55e-07 </td>\n    </tr>\n</table>"
     },
     "execution_count": 6,
     "metadata": {},
     "output_type": "execute_result"
    }
   ],
   "source": [
    "with pwa.LogLikelihood(NewMinuitGauss2D(), final) as likelihood:\n",
    "    optimizer = pwa.minuit(np.array([1, 1, 1, 1], float), likelihood)\n",
    "\n",
    "    for param in [0, 2]:\n",
    "        optimizer.limits[param] = (.1, None)\n",
    "\n",
    "    for param in [1, 3]:\n",
    "        optimizer.limits[param] = (1, None)\n",
    "\n",
    "    result = optimizer.migrad()\n",
    "result"
   ],
   "metadata": {
    "collapsed": false,
    "pycharm": {
     "name": "#%%\n"
    }
   }
  },
  {
   "cell_type": "code",
   "execution_count": 6,
   "outputs": [],
   "source": [],
   "metadata": {
    "collapsed": false,
    "pycharm": {
     "name": "#%%\n"
    }
   }
  }
 ],
 "metadata": {
  "kernelspec": {
   "display_name": "Python 3",
   "language": "python",
   "name": "python3"
  },
  "language_info": {
   "codemirror_mode": {
    "name": "ipython",
    "version": 2
   },
   "file_extension": ".py",
   "mimetype": "text/x-python",
   "name": "python",
   "nbconvert_exporter": "python",
   "pygments_lexer": "ipython2",
   "version": "2.7.6"
  }
 },
 "nbformat": 4,
 "nbformat_minor": 0
}