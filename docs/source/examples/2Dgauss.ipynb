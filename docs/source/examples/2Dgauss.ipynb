{
 "cells": [
  {
   "cell_type": "markdown",
   "metadata": {},
   "source": [
    "# Intro to PyPWA with the 2D Gauss\n",
    "    \n",
    "The goal with this little tutorial is to walk through how those PyPWA\n",
    "and it's collective features."
   ]
  },
  {
   "cell_type": "markdown",
   "metadata": {},
   "source": [
    "**Note:**\n",
    "Multiproccessing is done automatically when it's selected. However\n",
    "if you have some direct C/C++ code dependency in your Function on\n",
    "called in your class's `__init__`, you will encounter issues."
   ]
  },
  {
   "cell_type": "code",
   "execution_count": 1,
   "metadata": {},
   "outputs": [],
   "source": [
    "import numpy as np  # Vectorization and arrays\n",
    "import pandas as pd  # A powerful data science toolkit\n",
    "import numexpr as ne  # A threaded accelerator for numpy\n",
    "\n",
    "import PyPWA as pwa\n",
    "from IPython.display import display"
   ]
  },
  {
   "cell_type": "markdown",
   "metadata": {},
   "source": [
    "**Warning:**\n",
    "If you try to import cupy on a system that does not have a\n",
    "supported NVIDIA GPU, it will fail with an ImportError."
   ]
  },
  {
   "cell_type": "markdown",
   "metadata": {},
   "source": [
    "There are 3 different supported ways to define your kernel/amplitude in\n",
    "PyPWA.\n",
    "- Using multiprocessing: Write your kernel using Numpy and include any\n",
    "  externally compiled code the setup method. This is the default kernel,\n",
    "  and will result in your kernel being deployed in parallel across all threads\n",
    "  on the host system.\n",
    "- Using Numexpr to use hardware threads and low leve vectorization to\n",
    "  futher accelerate Numpy.\n",
    "- Using CuPy to accelerate the kernel and likelihood. This is by far the\n",
    "  fastest way to process data, but it requires a NVIDIA GPU with proper CUDA\n",
    "  libraries."
   ]
  },
  {
   "cell_type": "code",
   "execution_count": 2,
   "metadata": {},
   "outputs": [],
   "source": [
    "class Gauss2dAmplitude(pwa.NestedFunction):\n",
    "    \"\"\"\n",
    "    This is a simple 2D Gauss, but built to use PyPWA's builtin\n",
    "    multiprocessing module. For you, you don't need to worry about thread or\n",
    "    process management, how to pass data between threads, or any of the other\n",
    "    hassels that come with multithreading.\n",
    "    \n",
    "    Instead you just define your class while extending the NestedFunction,\n",
    "    and when you pass it to the fitter or the simulator, it'll mirror your\n",
    "    class, split your data, and deploy to every processing thread your\n",
    "    machine has.\n",
    "    \"\"\"\n",
    "\n",
    "    def setup(self, array):\n",
    "        \"\"\"\n",
    "        This function is where your data is passes too. Here you can also\n",
    "        load any C or Fortran external libraries that typically would not\n",
    "        support being packaged in Python's object pickles.\n",
    "        \"\"\"\n",
    "        self.__x = array[\"x\"]\n",
    "        self.__y = array[\"y\"]\n",
    "\n",
    "    def calculate(self, params):\n",
    "        \"\"\"\n",
    "        This function recieves the parameters from the minimizer, and\n",
    "        returns the values from there. All the values are returned from\n",
    "        here should the just the final array. The likelihood will be\n",
    "        calculated elsewhere.\n",
    "        \"\"\"\n",
    "        scaling = 1 / (params[\"A2\"] * params[\"A4\"])\n",
    "        left = ((self.__x - params[\"A1\"])**2)/(params[\"A2\"]**2)\n",
    "        right = ((self.__y - params[\"A3\"])**2)/(params[\"A4\"]**2)\n",
    "        return scaling * np.exp(-(left + right))\n",
    "        \n",
    "        return ne.evaluate(\n",
    "            \"(1/(a2*a4)) * exp(-((((x-a1)**2)/(a2**2))+(((y-a3)**2)/(a4**2))))\",\n",
    "            local_dict={\n",
    "                \"a1\": params[\"A1\"], \"a2\": params[\"A2\"],\n",
    "                \"a3\": params[\"A3\"], \"a4\": params[\"A4\"],\n",
    "                \"x\": self.__data[\"x\"], \"y\": self.__data[\"y\"]\n",
    "            }\n",
    "        )"
   ]
  },
  {
   "cell_type": "code",
   "execution_count": 3,
   "metadata": {},
   "outputs": [],
   "source": [
    "class NeGauss2dAmplitude(pwa.NestedFunction):\n",
    "    \"\"\"\n",
    "    This is the same Gauss as above, but instead of using raw numpy, it\n",
    "    uses numexpr, a hypervectorized, multithreading, numerical package that\n",
    "    should accelerate the calculation of your data.\n",
    "    \n",
    "    USE_MP defaults to True, but you should set it to false when using\n",
    "    numexpr, or if you're using some method that takes advantage of multiple\n",
    "    threads in some other manner. Setting this to false will prevent PyPWA\n",
    "    from launching multiple processes.\n",
    "    \n",
    "    However, if you are chasing acceleration gains for your amplitude,\n",
    "    consider running this with 2-4 threads. While numexpr does threading of\n",
    "    it's own, there are still some gains from using a small number of threads\n",
    "    to acclerate inefficiencies in the Python intrepretor.\n",
    "    \"\"\"\n",
    "    \n",
    "    USE_MP = False \n",
    "\n",
    "    def setup(self, array):\n",
    "        self.__data = array\n",
    "\n",
    "    def calculate(self, params):\n",
    "        return ne.evaluate(\n",
    "            \"(1/(a2*a4)) * exp(-((((x-a1)**2)/(a2**2))+(((y-a3)**2)/(a4**2))))\",\n",
    "            local_dict={\n",
    "                \"a1\": params[\"A1\"], \"a2\": params[\"A2\"],\n",
    "                \"a3\": params[\"A3\"], \"a4\": params[\"A4\"],\n",
    "                \"x\": self.__data[\"x\"], \"y\": self.__data[\"y\"]\n",
    "            }\n",
    "        )"
   ]
  },
  {
   "cell_type": "code",
   "execution_count": 4,
   "metadata": {},
   "outputs": [],
   "source": [
    "import cupy as cp  # Cupy Library, mirrors numpy\n",
    "# If this causes an ImportError, then your system isn't CuPy ready,\n",
    "# this might be because of missing CUDA libraries, or an\n",
    "# incompatibility in the hardware.\n",
    "\n",
    "class GPUGauss2dAmplitude(pwa.NestedFunction):\n",
    "    \"\"\"\n",
    "    Finally, this is the GPU version of the Gauss2D.\n",
    "    \n",
    "    Here, the individual arrays when they are passed to the setup method\n",
    "    need to be passed through CUDA to have the data uploaded to the GPU.\n",
    "    \n",
    "    USE_GPU needs to be set to avoid having the multiprocessing module\n",
    "    cause issues with the GPU, it also ways notifies the likelihood that\n",
    "    the results are expected in CuPy array format.\n",
    "    \"\"\"\n",
    "    \n",
    "    USE_GPU = True\n",
    "\n",
    "    def setup(self, array):\n",
    "        self.__x = cp.asarray(array[\"x\"])\n",
    "        self.__y = cp.asarray(array[\"y\"])\n",
    "\n",
    "    def calculate(self, params):\n",
    "        scaling = 1 / (params[\"A2\"] * params[\"A4\"])\n",
    "        left = ((self.__x - params[\"A1\"])**2)/(params[\"A2\"]**2)\n",
    "        right = ((self.__y - params[\"A3\"])**2)/(params[\"A4\"]**2)\n",
    "        return scaling * cp.exp(-(left + right))"
   ]
  },
  {
   "cell_type": "markdown",
   "metadata": {},
   "source": [
    "## Using caching for intermediate steps\n",
    "PyPWA's caching module supports caching intermediate steps. The advantage\n",
    "of using the caching module is that saving and loading values is fast. Much\n",
    "faster than almost any other solution, and supports almost anything you can\n",
    "store in a variable.\n",
    "\n",
    "PyPWA.cache has two important functions in it, `read` and `write`. Both\n",
    "functions support an `intermediate` boolean value. When set to true, it\n",
    "tells the module that it's caching a value that doesn't have an associated\n",
    "text file. The benefit of this is that you can save almost anything in the\n",
    "cache: lists, DataFrames, dictionarys, etc. There is a chance that it won't\n",
    "save the value if the data isn't serializable into a pickle, and it may not\n",
    "be compatible between different versions of python, so I don't recommend\n",
    "using this for data that you can't reproduce. However, if you need to do\n",
    "some feature engineering, or data sanitizing, before you can use the data\n",
    "in whatever way you need and want to keep that data around to speed up\n",
    "future executions, this module will make your life a touch easier.\n",
    "\n",
    "Below, I created a large flat DataFrame, and then binned that DataFrame\n",
    "into 10 bins, each with 1,000,000 events in them. Then, I saved those\n",
    "results into an intermediate cache that will appear in the current working\n",
    "directory with the name \"flat_data.pickle\" with Intermediate set to true.\n",
    "\n",
    "- `pwa.read` returns two values, the first is a boolean that is True only\n",
    "  if it was able to read the pickle, and the second is the parsed data,\n",
    "  which will be None if it was unable to parse anything from the file, or\n",
    "  the file doesn't exist.\n",
    "\n",
    "- `pwa.write` has no returns, but does write the data out in Pickle format\n",
    "   to the provided file."
   ]
  },
  {
   "cell_type": "code",
   "execution_count": 5,
   "metadata": {},
   "outputs": [],
   "source": [
    "valid_cache, binned_flat = pwa.cache.read(\"flat_data\", True)\n",
    "if not valid_cache:\n",
    "    flat_data = pd.DataFrame()\n",
    "    flat_data[\"x\"] = np.random.rand(10_000_000) * 20\n",
    "    flat_data[\"y\"] = np.random.rand(10_000_000) * 20\n",
    "    flat_data[\"binning\"] = np.random.rand(10_000_000) * 20\n",
    "    binned_flat = pwa.bin_with_fixed_widths(flat_data, \"binning\", 1_000_000)\n",
    "    pwa.cache.write(\"flat_data\", binned_flat, True)"
   ]
  },
  {
   "cell_type": "markdown",
   "metadata": {},
   "source": [
    "## Simulation with bins\n",
    "Simulation can be ran as a whole system, you simply provide the function\n",
    "and data, and it'll return the masked values, or you can run the two steps\n",
    "independently, with the first step returning the intensities, and the\n",
    "second returning the masks. When your working with a single dataset, running\n",
    "it as a single step make sense, however if you bin your data, then running\n",
    "it as two steps is better so that all bins are masked against the same\n",
    "max value of the intensity.\n",
    "\n",
    "- `pwa.simulate.process_user_function` takes all the same arguments as\n",
    "  `pwa.monte_carlo_simulation` so it can be a drop in replacement. The\n",
    "   difference is that this function will return the final values for the\n",
    "   user's function and the max value.\n",
    "- `pwa.simulate.make_rejection_list` takes the final values and either a\n",
    "   single max value, or a list or array of max values, and it'll use the\n",
    "   largest max value. This function will return the same value as\n",
    "  `pwa.monte_carlo_simulation`\n",
    "  \n",
    "Below, I iterate over the bins and produce the final values and max value\n",
    "for each bin and store them in their own lists."
   ]
  },
  {
   "cell_type": "code",
   "execution_count": 6,
   "metadata": {},
   "outputs": [],
   "source": [
    "simulation_params = {\n",
    "    \"A1\": 10, \"A2\": 3, \n",
    "    \"A3\": 10, \"A4\": 3\n",
    "}\n",
    "\n",
    "final_values = []\n",
    "max_values = []\n",
    "for fixed_bin in binned_flat:\n",
    "    final, m = pwa.simulate.process_user_function(\n",
    "        GPUGauss2dAmplitude(), fixed_bin, simulation_params\n",
    "    )\n",
    "    final_values.append(final)\n",
    "    max_values.append(m)\n",
    "    \n",
    "pwa.cache.write(\"final_values\", max_values, True)"
   ]
  },
  {
   "cell_type": "markdown",
   "metadata": {},
   "source": [
    "After the final values have been produced, I use\n",
    "`pwa.simulate.make_rejection_list` to reject events from each bin, and then\n",
    "store the new carved results in a fresh list."
   ]
  },
  {
   "cell_type": "code",
   "execution_count": 7,
   "metadata": {},
   "outputs": [],
   "source": [
    "rejected_bins = []\n",
    "masked_final_values = []\n",
    "for final_value, bin_data in zip(final_values, binned_flat):\n",
    "    rejection = pwa.simulate.make_rejection_list(final_value, max_values)\n",
    "    rejected_bins.append(bin_data[rejection])\n",
    "    masked_final_values.append(final_value[rejection])\n",
    "\n",
    "pwa.cache.write(\"fitting_bins\", rejected_bins, True)\n",
    "pwa.cache.write(\"kept_final_values\", masked_final_values, True)"
   ]
  },
  {
   "cell_type": "code",
   "execution_count": 8,
   "metadata": {},
   "outputs": [
    {
     "name": "stdout",
     "output_type": "stream",
     "text": [
      "Bin 1's length is 70275, 7.03% events were kept\n",
      "Bin 2's length is 70542, 7.05% events were kept\n",
      "Bin 3's length is 70411, 7.04% events were kept\n",
      "Bin 4's length is 70384, 7.04% events were kept\n",
      "Bin 5's length is 70616, 7.06% events were kept\n",
      "Bin 6's length is 70917, 7.09% events were kept\n",
      "Bin 7's length is 70654, 7.07% events were kept\n",
      "Bin 8's length is 70978, 7.10% events were kept\n",
      "Bin 9's length is 70620, 7.06% events were kept\n",
      "Bin 10's length is 70682, 7.07% events were kept\n"
     ]
    }
   ],
   "source": [
    "for index, simulated_bin in enumerate(rejected_bins):\n",
    "    print(\n",
    "        f\"Bin {index+1}'s length is {len(simulated_bin)}, \"\n",
    "        f\"{(len(simulated_bin) / 1_000_000) * 100:.2f}% events were kept\"\n",
    "    )"
   ]
  },
  {
   "cell_type": "markdown",
   "metadata": {},
   "source": [
    "### But first, why Caching has that intermediate step option.\n",
    "What PyPWA's caching module is primarily used for is caching values from a\n",
    "file to allow for quick parsing later. Here, you don't set `intermediate`\n",
    "to True since you are saving the value stored inside another file. You\n",
    "must use the same filename for both the cache and the file that you're\n",
    "writing so that it can place the cache in the caching directory, and be\n",
    "set to invalid when the file changes.\n",
    "\n",
    "The benefit of this is that even when you're using another data format\n",
    "that isn't directly supported by PyPWA's data library, you can still take\n",
    "advantage of PyPWA's caching module."
   ]
  },
  {
   "cell_type": "code",
   "execution_count": 9,
   "metadata": {},
   "outputs": [],
   "source": [
    "is_valid, first_bin = pwa.cache.read(\"first_bin.csv\")\n",
    "if not is_valid:\n",
    "    first_bin = binned_flat[0]\n",
    "    first_bin.to_csv(\"first_bin.csv\", index=False)\n",
    "    # if the file exists but there is no cache, you would load the file as normal\n",
    "    # but then write the cache afterwards.\n",
    "    # first_bin = pandas.from_csv(\"fist_bin.csv\")\n",
    "    pwa.cache.write(\"first_bin.csv\", first_bin)"
   ]
  },
  {
   "cell_type": "markdown",
   "metadata": {},
   "source": [
    "## Fitting\n",
    "While you can use PyPWA's likelihoods with any minimizer, PyPWA supports\n",
    "Iminuit 1.X out of the box. The first thing that is done is we setup\n",
    "the parameters to fit against, as well as the individual names of each\n",
    "parameter.\n",
    "\n",
    "Traditionally, iminuit works by reading the values from the provided\n",
    "function to guess what the parameters are and what to pass to the function,\n",
    "however since we wrap the minimized function to take advantage of GPU\n",
    "acceleration and multiprocessing, you must also tell iMinuit what the\n",
    "values are directly."
   ]
  },
  {
   "cell_type": "code",
   "execution_count": 10,
   "metadata": {},
   "outputs": [],
   "source": [
    "fitting_settings = {\n",
    "    \"errordef\": .1, \"pedantic\" : False,\n",
    "    \"A1\": 1, \"limit_A1\": [.1, None],\n",
    "    \"A2\": 1, \"limit_A2\": [1, None],\n",
    "    \"A3\": 1, \"limit_A3\": [.1, None],\n",
    "    \"A4\": 1, \"limit_A4\": [1, None],\n",
    "}\n",
    "\n",
    "param_names = [\"A1\", \"A2\", \"A3\", \"A4\"]"
   ]
  },
  {
   "cell_type": "markdown",
   "metadata": {},
   "source": [
    "Then below, we can simply fit those values. Even though we defined the\n",
    "multiprocessing module"
   ]
  },
  {
   "cell_type": "code",
   "execution_count": 11,
   "metadata": {},
   "outputs": [],
   "source": [
    "# Even though we're using Numexpr, I do want to take advantage of both\n",
    "# multiprocessing and Numexpr's low level optimizations. So by selecting\n",
    "# a small number of processes with Numexpr, you still get an overall\n",
    "# speedup over either Numexpr or regular multiprocessing\n",
    "NeGauss2dAmplitude.USE_MP = True\n",
    "\n",
    "cpu_final_values= []\n",
    "for simulated_bin in rejected_bins:\n",
    "    with pwa.LogLikelihood(\n",
    "        NeGauss2dAmplitude(), simulated_bin, num_of_processes=4\n",
    "    ) as likelihood:\n",
    "        cpu_final_values.append(\n",
    "            pwa.minuit(param_names, fitting_settings, likelihood, 1)\n",
    "        )"
   ]
  },
  {
   "cell_type": "code",
   "execution_count": 12,
   "metadata": {},
   "outputs": [],
   "source": [
    "gpu_final_values = []\n",
    "for simulated_bin in rejected_bins:\n",
    "    with pwa.LogLikelihood(GPUGauss2dAmplitude(), simulated_bin) as likelihood:\n",
    "        gpu_final_values.append(\n",
    "            pwa.minuit(param_names, fitting_settings, likelihood, 1)\n",
    "        )"
   ]
  },
  {
   "cell_type": "markdown",
   "metadata": {},
   "source": [
    "## Issues with PyPWA.cache\n",
    "There are some values that can not be saved in a PyPWA's cache. Typically it's\n",
    "an object from a package that takes advantage of Cython or Fortran to\n",
    "accelerate it's execution. Either because the values are stored as pointers\n",
    "to arrays, or uses C types too deep for Python's interpretor to analyze. A good\n",
    "example of this case is results from Iminuit.\n",
    "\n",
    "As you can see below, a Runtime Warning is thrown from PyPWA's caching module\n",
    "about how the data can't be saved. However, the real error is that the tuple\n",
    "has values that can not be converted to a pure Python object for pickling."
   ]
  },
  {
   "cell_type": "code",
   "execution_count": 13,
   "metadata": {},
   "outputs": [
    {
     "ename": "RuntimeWarning",
     "evalue": "Your data can not be saved in cache!",
     "output_type": "error",
     "traceback": [
      "\u001b[0;31m---------------------------------------------------------------------------\u001b[0m",
      "\u001b[0;31mTypeError\u001b[0m                                 Traceback (most recent call last)",
      "\u001b[0;32m~/Projects/pypwa/src/pypwa/PyPWA/libs/file/cache.py\u001b[0m in \u001b[0;36mwrite\u001b[0;34m(path, data, intermediate)\u001b[0m\n\u001b[1;32m    144\u001b[0m         \u001b[0;32mwith\u001b[0m \u001b[0mcache_path\u001b[0m\u001b[0;34m.\u001b[0m\u001b[0mopen\u001b[0m\u001b[0;34m(\u001b[0m\u001b[0;34m\"wb\"\u001b[0m\u001b[0;34m)\u001b[0m \u001b[0;32mas\u001b[0m \u001b[0mstream\u001b[0m\u001b[0;34m:\u001b[0m\u001b[0;34m\u001b[0m\u001b[0;34m\u001b[0m\u001b[0m\n\u001b[0;32m--> 145\u001b[0;31m             \u001b[0mpickle\u001b[0m\u001b[0;34m.\u001b[0m\u001b[0mdump\u001b[0m\u001b[0;34m(\u001b[0m\u001b[0mdata_package\u001b[0m\u001b[0;34m,\u001b[0m \u001b[0mstream\u001b[0m\u001b[0;34m)\u001b[0m\u001b[0;34m\u001b[0m\u001b[0;34m\u001b[0m\u001b[0m\n\u001b[0m\u001b[1;32m    146\u001b[0m     \u001b[0;32mexcept\u001b[0m \u001b[0mException\u001b[0m\u001b[0;34m:\u001b[0m\u001b[0;34m\u001b[0m\u001b[0;34m\u001b[0m\u001b[0m\n",
      "\u001b[0;32m~/.anaconda3/envs/pypwa/lib/python3.8/site-packages/iminuit/_libiminuit.cpython-38-x86_64-linux-gnu.so\u001b[0m in \u001b[0;36miminuit._libiminuit.Minuit.__reduce_cython__\u001b[0;34m()\u001b[0m\n",
      "\u001b[0;31mTypeError\u001b[0m: self.cfmin,self.initial_upst,self.last_upst,self.pyfcn cannot be converted to a Python object for pickling",
      "\nDuring handling of the above exception, another exception occurred:\n",
      "\u001b[0;31mRuntimeWarning\u001b[0m                            Traceback (most recent call last)",
      "\u001b[0;32m<ipython-input-13-0d41921eeb3b>\u001b[0m in \u001b[0;36m<module>\u001b[0;34m\u001b[0m\n\u001b[0;32m----> 1\u001b[0;31m \u001b[0mpwa\u001b[0m\u001b[0;34m.\u001b[0m\u001b[0mcache\u001b[0m\u001b[0;34m.\u001b[0m\u001b[0mwrite\u001b[0m\u001b[0;34m(\u001b[0m\u001b[0;34m\"fitting_results\"\u001b[0m\u001b[0;34m,\u001b[0m \u001b[0mcpu_final_values\u001b[0m\u001b[0;34m,\u001b[0m \u001b[0;32mTrue\u001b[0m\u001b[0;34m)\u001b[0m\u001b[0;34m\u001b[0m\u001b[0;34m\u001b[0m\u001b[0m\n\u001b[0m",
      "\u001b[0;32m~/Projects/pypwa/src/pypwa/PyPWA/libs/file/cache.py\u001b[0m in \u001b[0;36mwrite\u001b[0;34m(path, data, intermediate)\u001b[0m\n\u001b[1;32m    147\u001b[0m         \u001b[0;32mif\u001b[0m \u001b[0mcache_path\u001b[0m\u001b[0;34m.\u001b[0m\u001b[0mexists\u001b[0m\u001b[0;34m(\u001b[0m\u001b[0;34m)\u001b[0m\u001b[0;34m:\u001b[0m\u001b[0;34m\u001b[0m\u001b[0;34m\u001b[0m\u001b[0m\n\u001b[1;32m    148\u001b[0m             \u001b[0mcache_path\u001b[0m\u001b[0;34m.\u001b[0m\u001b[0munlink\u001b[0m\u001b[0;34m(\u001b[0m\u001b[0;34m)\u001b[0m\u001b[0;34m\u001b[0m\u001b[0;34m\u001b[0m\u001b[0m\n\u001b[0;32m--> 149\u001b[0;31m         \u001b[0;32mraise\u001b[0m \u001b[0mRuntimeWarning\u001b[0m\u001b[0;34m(\u001b[0m\u001b[0;34m\"Your data can not be saved in cache!\"\u001b[0m\u001b[0;34m)\u001b[0m\u001b[0;34m\u001b[0m\u001b[0;34m\u001b[0m\u001b[0m\n\u001b[0m",
      "\u001b[0;31mRuntimeWarning\u001b[0m: Your data can not be saved in cache!"
     ]
    }
   ],
   "source": [
    "pwa.cache.write(\"fitting_results\", cpu_final_values, True)"
   ]
  },
  {
   "cell_type": "markdown",
   "metadata": {},
   "source": [
    "## Viewing the results\n",
    "Finally, we can see what the results of the fitting. Iminuit has three\n",
    "useful properties that can be called to see information about the fitting.\n",
    "\n",
    "- `obj.fmin` provieds the minimal value that Iminuit found while fitting\n",
    "   function.\n",
    "- `obj.params` provides basic information about the params. Validity\n",
    "   information, final values, measured errors, and the final parameters\n",
    "- `obj.matrix()` Produces the covariance matrix, which can be useful for\n",
    "   some fits that need the matrix to calculate overall error."
   ]
  },
  {
   "cell_type": "code",
   "execution_count": 14,
   "metadata": {},
   "outputs": [
    {
     "name": "stdout",
     "output_type": "stream",
     "text": [
      "CPU bin 1\n"
     ]
    },
    {
     "data": {
      "text/html": [
       "<table>\n",
       "    <tr>\n",
       "        <td colspan=\"2\" style=\"text-align:left\" title=\"Minimum value of function\"> FCN = 2.246e+05 </td>\n",
       "        <td colspan=\"3\" style=\"text-align:center\" title=\"No. of function evaluations in last call and total number\"> Nfcn = 231 (231 total) </td>\n",
       "    </tr>\n",
       "    <tr>\n",
       "        <td colspan=\"2\" style=\"text-align:left\" title=\"Estimated distance to minimum and goal\"> EDM = 5.99e-07 (Goal: 0.0002) </td>\n",
       "        <td colspan=\"3\" style=\"text-align:center\" title=\"No. of gradient evaluations in last call and total number\">  </td>\n",
       "    </tr>\n",
       "    <tr>\n",
       "        <td style=\"text-align:center;background-color:#92CCA6;color:black\"> Valid Minimum </td>\n",
       "        <td style=\"text-align:center;background-color:#92CCA6;color:black\"> Valid Parameters </td>\n",
       "        <td colspan=\"3\" style=\"text-align:center;background-color:#FFF79A;color:black\"> SOME Parameters at limit </td>\n",
       "    </tr>\n",
       "    <tr>\n",
       "        <td colspan=\"2\" style=\"text-align:center;background-color:#92CCA6;color:black\"> Below EDM threshold (goal x 10) </td>\n",
       "        <td colspan=\"3\" style=\"text-align:center;background-color:#92CCA6;color:black\"> Below call limit </td>\n",
       "    </tr>\n",
       "    <tr>\n",
       "        <td style=\"text-align:center;background-color:#92CCA6;color:black\"> Hesse ok </td>\n",
       "        <td style=\"text-align:center;background-color:#92CCA6;color:black\"> Has Covariance </td>\n",
       "        <td style=\"text-align:center;background-color:#92CCA6;color:black\" title=\"Is covariance matrix accurate?\"> Accurate </td>\n",
       "        <td style=\"text-align:center;background-color:#92CCA6;color:black\" title=\"Is covariance matrix positive definite?\"> Pos. def. </td>\n",
       "        <td style=\"text-align:center;background-color:#92CCA6;color:black\" title=\"Was positive definiteness enforced by Minuit?\"> Not forced </td>\n",
       "    </tr>\n",
       "</table>"
      ],
      "text/plain": [
       "┌──────────────────────────────────┬──────────────────────────────────────┐\n",
       "│ FCN = 2.246e+05                  │        Nfcn = 231 (231 total)        │\n",
       "│ EDM = 5.99e-07 (Goal: 0.0002)    │                                      │\n",
       "├───────────────┬──────────────────┼──────────────────────────────────────┤\n",
       "│ Valid Minimum │ Valid Parameters │       SOME Parameters at limit       │\n",
       "├───────────────┴──────────────────┼──────────────────────────────────────┤\n",
       "│ Below EDM threshold (goal x 10)  │           Below call limit           │\n",
       "├───────────────┬──────────────────┼───────────┬─────────────┬────────────┤\n",
       "│   Hesse ok    │  Has Covariance  │ Accurate  │  Pos. def.  │ Not forced │\n",
       "└───────────────┴──────────────────┴───────────┴─────────────┴────────────┘"
      ]
     },
     "metadata": {},
     "output_type": "display_data"
    },
    {
     "data": {
      "text/html": [
       "<table>\n",
       "    <tr>\n",
       "        <td></td>\n",
       "        <th title=\"Variable name\"> Name </th>\n",
       "        <th title=\"Value of parameter\"> Value </th>\n",
       "        <th title=\"Hesse error\"> Hesse Error </th>\n",
       "        <th title=\"Minos lower error\"> Minos Error- </th>\n",
       "        <th title=\"Minos upper error\"> Minos Error+ </th>\n",
       "        <th title=\"Lower limit of the parameter\"> Limit- </th>\n",
       "        <th title=\"Upper limit of the parameter\"> Limit+ </th>\n",
       "        <th title=\"Is the parameter fixed in the fit\"> Fixed </th>\n",
       "    </tr>\n",
       "    <tr>\n",
       "        <th> 0 </th>\n",
       "        <td> A1 </td>\n",
       "        <td> 10.000 </td>\n",
       "        <td> 0.011 </td>\n",
       "        <td>  </td>\n",
       "        <td>  </td>\n",
       "        <td> 0.1 </td>\n",
       "        <td>  </td>\n",
       "        <td>  </td>\n",
       "    </tr>\n",
       "    <tr>\n",
       "        <th> 1 </th>\n",
       "        <td> A2 </td>\n",
       "        <td> 2.987 </td>\n",
       "        <td> 0.011 </td>\n",
       "        <td>  </td>\n",
       "        <td>  </td>\n",
       "        <td> 1 </td>\n",
       "        <td>  </td>\n",
       "        <td>  </td>\n",
       "    </tr>\n",
       "    <tr>\n",
       "        <th> 2 </th>\n",
       "        <td> A3 </td>\n",
       "        <td> 9.997 </td>\n",
       "        <td> 0.011 </td>\n",
       "        <td>  </td>\n",
       "        <td>  </td>\n",
       "        <td> 0.1 </td>\n",
       "        <td>  </td>\n",
       "        <td>  </td>\n",
       "    </tr>\n",
       "    <tr>\n",
       "        <th> 3 </th>\n",
       "        <td> A4 </td>\n",
       "        <td> 3.008 </td>\n",
       "        <td> 0.011 </td>\n",
       "        <td>  </td>\n",
       "        <td>  </td>\n",
       "        <td> 1 </td>\n",
       "        <td>  </td>\n",
       "        <td>  </td>\n",
       "    </tr>\n",
       "</table>"
      ],
      "text/plain": [
       "┌───┬──────┬───────────┬───────────┬────────────┬────────────┬─────────┬─────────┬───────┐\n",
       "│   │ Name │   Value   │ Hesse Err │ Minos Err- │ Minos Err+ │ Limit-  │ Limit+  │ Fixed │\n",
       "├───┼──────┼───────────┼───────────┼────────────┼────────────┼─────────┼─────────┼───────┤\n",
       "│ 0 │ A1   │  10.000   │   0.011   │            │            │   0.1   │         │       │\n",
       "│ 1 │ A2   │   2.987   │   0.011   │            │            │    1    │         │       │\n",
       "│ 2 │ A3   │   9.997   │   0.011   │            │            │   0.1   │         │       │\n",
       "│ 3 │ A4   │   3.008   │   0.011   │            │            │    1    │         │       │\n",
       "└───┴──────┴───────────┴───────────┴────────────┴────────────┴─────────┴─────────┴───────┘"
      ]
     },
     "metadata": {},
     "output_type": "display_data"
    },
    {
     "data": {
      "text/html": [
       "<table>\n",
       "    <tr>\n",
       "        <td></td>\n",
       "        <th> A1 </th>\n",
       "        <th> A2 </th>\n",
       "        <th> A3 </th>\n",
       "        <th> A4 </th>\n",
       "    </tr>\n",
       "    <tr>\n",
       "        <th> A1 </th>\n",
       "        <td> 0 </td>\n",
       "        <td style=\"background-color:rgb(250,250,250);color:black\"> 0 </td>\n",
       "        <td style=\"background-color:rgb(250,250,250);color:black\"> 0 </td>\n",
       "        <td style=\"background-color:rgb(250,250,250);color:black\"> 0 </td>\n",
       "    </tr>\n",
       "    <tr>\n",
       "        <th> A2 </th>\n",
       "        <td style=\"background-color:rgb(250,250,250);color:black\"> 0 </td>\n",
       "        <td> 0 </td>\n",
       "        <td style=\"background-color:rgb(250,250,250);color:black\"> 0 </td>\n",
       "        <td style=\"background-color:rgb(250,250,250);color:black\"> -0 </td>\n",
       "    </tr>\n",
       "    <tr>\n",
       "        <th> A3 </th>\n",
       "        <td style=\"background-color:rgb(250,250,250);color:black\"> 0 </td>\n",
       "        <td style=\"background-color:rgb(250,250,250);color:black\"> 0 </td>\n",
       "        <td> 0 </td>\n",
       "        <td style=\"background-color:rgb(250,250,250);color:black\"> 0 </td>\n",
       "    </tr>\n",
       "    <tr>\n",
       "        <th> A4 </th>\n",
       "        <td style=\"background-color:rgb(250,250,250);color:black\"> 0 </td>\n",
       "        <td style=\"background-color:rgb(250,250,250);color:black\"> -0 </td>\n",
       "        <td style=\"background-color:rgb(250,250,250);color:black\"> 0 </td>\n",
       "        <td> 0 </td>\n",
       "    </tr>\n",
       "</table>"
      ],
      "text/plain": [
       "┌────┬─────────────┐\n",
       "│    │ A1 A2 A3 A4 │\n",
       "├────┼─────────────┤\n",
       "│ A1 │  0  0  0  0 │\n",
       "│ A2 │  0  0  0 -0 │\n",
       "│ A3 │  0  0  0  0 │\n",
       "│ A4 │  0 -0  0  0 │\n",
       "└────┴─────────────┘"
      ]
     },
     "metadata": {},
     "output_type": "display_data"
    },
    {
     "name": "stdout",
     "output_type": "stream",
     "text": [
      "\n",
      "\n",
      "--------------------------\n",
      "\n",
      "\n",
      "GPU bin 1\n"
     ]
    },
    {
     "data": {
      "text/html": [
       "<table>\n",
       "    <tr>\n",
       "        <td colspan=\"2\" style=\"text-align:left\" title=\"Minimum value of function\"> FCN = 2.246e+05 </td>\n",
       "        <td colspan=\"3\" style=\"text-align:center\" title=\"No. of function evaluations in last call and total number\"> Nfcn = 231 (231 total) </td>\n",
       "    </tr>\n",
       "    <tr>\n",
       "        <td colspan=\"2\" style=\"text-align:left\" title=\"Estimated distance to minimum and goal\"> EDM = 5.99e-07 (Goal: 0.0002) </td>\n",
       "        <td colspan=\"3\" style=\"text-align:center\" title=\"No. of gradient evaluations in last call and total number\">  </td>\n",
       "    </tr>\n",
       "    <tr>\n",
       "        <td style=\"text-align:center;background-color:#92CCA6;color:black\"> Valid Minimum </td>\n",
       "        <td style=\"text-align:center;background-color:#92CCA6;color:black\"> Valid Parameters </td>\n",
       "        <td colspan=\"3\" style=\"text-align:center;background-color:#FFF79A;color:black\"> SOME Parameters at limit </td>\n",
       "    </tr>\n",
       "    <tr>\n",
       "        <td colspan=\"2\" style=\"text-align:center;background-color:#92CCA6;color:black\"> Below EDM threshold (goal x 10) </td>\n",
       "        <td colspan=\"3\" style=\"text-align:center;background-color:#92CCA6;color:black\"> Below call limit </td>\n",
       "    </tr>\n",
       "    <tr>\n",
       "        <td style=\"text-align:center;background-color:#92CCA6;color:black\"> Hesse ok </td>\n",
       "        <td style=\"text-align:center;background-color:#92CCA6;color:black\"> Has Covariance </td>\n",
       "        <td style=\"text-align:center;background-color:#92CCA6;color:black\" title=\"Is covariance matrix accurate?\"> Accurate </td>\n",
       "        <td style=\"text-align:center;background-color:#92CCA6;color:black\" title=\"Is covariance matrix positive definite?\"> Pos. def. </td>\n",
       "        <td style=\"text-align:center;background-color:#92CCA6;color:black\" title=\"Was positive definiteness enforced by Minuit?\"> Not forced </td>\n",
       "    </tr>\n",
       "</table>"
      ],
      "text/plain": [
       "┌──────────────────────────────────┬──────────────────────────────────────┐\n",
       "│ FCN = 2.246e+05                  │        Nfcn = 231 (231 total)        │\n",
       "│ EDM = 5.99e-07 (Goal: 0.0002)    │                                      │\n",
       "├───────────────┬──────────────────┼──────────────────────────────────────┤\n",
       "│ Valid Minimum │ Valid Parameters │       SOME Parameters at limit       │\n",
       "├───────────────┴──────────────────┼──────────────────────────────────────┤\n",
       "│ Below EDM threshold (goal x 10)  │           Below call limit           │\n",
       "├───────────────┬──────────────────┼───────────┬─────────────┬────────────┤\n",
       "│   Hesse ok    │  Has Covariance  │ Accurate  │  Pos. def.  │ Not forced │\n",
       "└───────────────┴──────────────────┴───────────┴─────────────┴────────────┘"
      ]
     },
     "metadata": {},
     "output_type": "display_data"
    },
    {
     "data": {
      "text/html": [
       "<table>\n",
       "    <tr>\n",
       "        <td></td>\n",
       "        <th title=\"Variable name\"> Name </th>\n",
       "        <th title=\"Value of parameter\"> Value </th>\n",
       "        <th title=\"Hesse error\"> Hesse Error </th>\n",
       "        <th title=\"Minos lower error\"> Minos Error- </th>\n",
       "        <th title=\"Minos upper error\"> Minos Error+ </th>\n",
       "        <th title=\"Lower limit of the parameter\"> Limit- </th>\n",
       "        <th title=\"Upper limit of the parameter\"> Limit+ </th>\n",
       "        <th title=\"Is the parameter fixed in the fit\"> Fixed </th>\n",
       "    </tr>\n",
       "    <tr>\n",
       "        <th> 0 </th>\n",
       "        <td> A1 </td>\n",
       "        <td> 10.000 </td>\n",
       "        <td> 0.011 </td>\n",
       "        <td>  </td>\n",
       "        <td>  </td>\n",
       "        <td> 0.1 </td>\n",
       "        <td>  </td>\n",
       "        <td>  </td>\n",
       "    </tr>\n",
       "    <tr>\n",
       "        <th> 1 </th>\n",
       "        <td> A2 </td>\n",
       "        <td> 2.987 </td>\n",
       "        <td> 0.011 </td>\n",
       "        <td>  </td>\n",
       "        <td>  </td>\n",
       "        <td> 1 </td>\n",
       "        <td>  </td>\n",
       "        <td>  </td>\n",
       "    </tr>\n",
       "    <tr>\n",
       "        <th> 2 </th>\n",
       "        <td> A3 </td>\n",
       "        <td> 9.997 </td>\n",
       "        <td> 0.011 </td>\n",
       "        <td>  </td>\n",
       "        <td>  </td>\n",
       "        <td> 0.1 </td>\n",
       "        <td>  </td>\n",
       "        <td>  </td>\n",
       "    </tr>\n",
       "    <tr>\n",
       "        <th> 3 </th>\n",
       "        <td> A4 </td>\n",
       "        <td> 3.008 </td>\n",
       "        <td> 0.011 </td>\n",
       "        <td>  </td>\n",
       "        <td>  </td>\n",
       "        <td> 1 </td>\n",
       "        <td>  </td>\n",
       "        <td>  </td>\n",
       "    </tr>\n",
       "</table>"
      ],
      "text/plain": [
       "┌───┬──────┬───────────┬───────────┬────────────┬────────────┬─────────┬─────────┬───────┐\n",
       "│   │ Name │   Value   │ Hesse Err │ Minos Err- │ Minos Err+ │ Limit-  │ Limit+  │ Fixed │\n",
       "├───┼──────┼───────────┼───────────┼────────────┼────────────┼─────────┼─────────┼───────┤\n",
       "│ 0 │ A1   │  10.000   │   0.011   │            │            │   0.1   │         │       │\n",
       "│ 1 │ A2   │   2.987   │   0.011   │            │            │    1    │         │       │\n",
       "│ 2 │ A3   │   9.997   │   0.011   │            │            │   0.1   │         │       │\n",
       "│ 3 │ A4   │   3.008   │   0.011   │            │            │    1    │         │       │\n",
       "└───┴──────┴───────────┴───────────┴────────────┴────────────┴─────────┴─────────┴───────┘"
      ]
     },
     "metadata": {},
     "output_type": "display_data"
    },
    {
     "data": {
      "text/html": [
       "<table>\n",
       "    <tr>\n",
       "        <td></td>\n",
       "        <th> A1 </th>\n",
       "        <th> A2 </th>\n",
       "        <th> A3 </th>\n",
       "        <th> A4 </th>\n",
       "    </tr>\n",
       "    <tr>\n",
       "        <th> A1 </th>\n",
       "        <td> 0 </td>\n",
       "        <td style=\"background-color:rgb(250,250,250);color:black\"> 0 </td>\n",
       "        <td style=\"background-color:rgb(250,250,250);color:black\"> -0 </td>\n",
       "        <td style=\"background-color:rgb(250,250,250);color:black\"> -0 </td>\n",
       "    </tr>\n",
       "    <tr>\n",
       "        <th> A2 </th>\n",
       "        <td style=\"background-color:rgb(250,250,250);color:black\"> 0 </td>\n",
       "        <td> 0 </td>\n",
       "        <td style=\"background-color:rgb(250,250,250);color:black\"> -0 </td>\n",
       "        <td style=\"background-color:rgb(250,250,250);color:black\"> -0 </td>\n",
       "    </tr>\n",
       "    <tr>\n",
       "        <th> A3 </th>\n",
       "        <td style=\"background-color:rgb(250,250,250);color:black\"> -0 </td>\n",
       "        <td style=\"background-color:rgb(250,250,250);color:black\"> -0 </td>\n",
       "        <td> 0 </td>\n",
       "        <td style=\"background-color:rgb(250,250,250);color:black\"> 0 </td>\n",
       "    </tr>\n",
       "    <tr>\n",
       "        <th> A4 </th>\n",
       "        <td style=\"background-color:rgb(250,250,250);color:black\"> -0 </td>\n",
       "        <td style=\"background-color:rgb(250,250,250);color:black\"> -0 </td>\n",
       "        <td style=\"background-color:rgb(250,250,250);color:black\"> 0 </td>\n",
       "        <td> 0 </td>\n",
       "    </tr>\n",
       "</table>"
      ],
      "text/plain": [
       "┌────┬─────────────┐\n",
       "│    │ A1 A2 A3 A4 │\n",
       "├────┼─────────────┤\n",
       "│ A1 │  0  0 -0 -0 │\n",
       "│ A2 │  0  0 -0 -0 │\n",
       "│ A3 │ -0 -0  0  0 │\n",
       "│ A4 │ -0 -0  0  0 │\n",
       "└────┴─────────────┘"
      ]
     },
     "metadata": {},
     "output_type": "display_data"
    }
   ],
   "source": [
    "print(f\"CPU bin 1\")\n",
    "display(cpu_final_values[0].fmin)\n",
    "display(cpu_final_values[0].params)\n",
    "display(cpu_final_values[0].matrix())\n",
    "print(\"\\n\\n--------------------------\\n\\n\")\n",
    "print(f\"GPU bin 1\")\n",
    "display(gpu_final_values[0].fmin)\n",
    "display(gpu_final_values[0].params)\n",
    "display(gpu_final_values[0].matrix())"
   ]
  }
 ],
 "metadata": {
  "kernelspec": {
   "display_name": "Python 3",
   "language": "python",
   "name": "python3"
  },
  "language_info": {
   "codemirror_mode": {
    "name": "ipython",
    "version": 3
   },
   "file_extension": ".py",
   "mimetype": "text/x-python",
   "name": "python",
   "nbconvert_exporter": "python",
   "pygments_lexer": "ipython3",
   "version": "3.8.8"
  }
 },
 "nbformat": 4,
 "nbformat_minor": 4
}
