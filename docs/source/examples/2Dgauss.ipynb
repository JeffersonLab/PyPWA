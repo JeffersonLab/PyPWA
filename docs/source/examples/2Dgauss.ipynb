{
 "cells": [
  {
   "cell_type": "markdown",
   "metadata": {
    "pycharm": {
     "name": "#%% md\n"
    }
   },
   "source": [
    "# Intro to PyPWA with the 2D Gauss\n",
    "    \n",
    "The goal with this little tutorial is to walk through how those PyPWA\n",
    "and its collective features."
   ]
  },
  {
   "cell_type": "markdown",
   "metadata": {
    "pycharm": {
     "name": "#%% md\n"
    }
   },
   "source": [
    "**Note:**\n",
    "Multiproccessing is done automatically when it's selected. However,\n",
    "if you have some direct C/C++ code dependency in your Function on\n",
    "called in your class's `__init__`, you will encounter issues. This\n",
    "is why each object has a `setup` function- To initialize Fortran\n",
    "and C++ dependencies there."
   ]
  },
  {
   "cell_type": "code",
   "execution_count": 1,
   "metadata": {
    "pycharm": {
     "name": "#%%\n"
    }
   },
   "outputs": [
    {
     "name": "stderr",
     "output_type": "stream",
     "text": [
      "/home/mark/.anaconda3_install/envs/PyPWA/lib/python3.10/site-packages/tqdm/auto.py:22: TqdmWarning: IProgress not found. Please update jupyter and ipywidgets. See https://ipywidgets.readthedocs.io/en/stable/user_install.html\n",
      "  from .autonotebook import tqdm as notebook_tqdm\n"
     ]
    }
   ],
   "source": [
    "import numpy as np  # Vectorization and arrays\n",
    "import pandas as pd  # A powerful data science toolkit\n",
    "import numexpr as ne  # A threaded accelerator for numpy\n",
    "\n",
    "import PyPWA as pwa\n",
    "from IPython.display import display"
   ]
  },
  {
   "cell_type": "markdown",
   "metadata": {
    "pycharm": {
     "name": "#%% md\n"
    }
   },
   "source": [
    "There are 3 different supported ways to define your kernel/amplitude in\n",
    "PyPWA.\n",
    "- Using multiprocessing: Write your kernel using Numpy and include any\n",
    "  externally compiled code the setup method. This is the default kernel,\n",
    "  and will result in your kernel being deployed in parallel across all threads\n",
    "  on the host system.\n",
    "- Using Numexpr to use hardware threads and low level vectorization to\n",
    "  further accelerate Numpy. There is some benefit to running Numexpr on less\n",
    "  cores than traditional Numpy, but largely you can treat Numexpr the same as\n",
    "  the above.\n",
    "- Using Torch to compute the Kernel. This will allow you to take advantage of\n",
    "  Metal on Apple PCs, or CUDA GPUs on Linux machines. However, to utilize CUDA,\n",
    "  you must disable Multiprocessing. At this time, CUDA does not support the\n",
    "  main process being forked."
   ]
  },
  {
   "cell_type": "code",
   "execution_count": 2,
   "metadata": {
    "pycharm": {
     "name": "#%%\n"
    }
   },
   "outputs": [],
   "source": [
    "class Gauss2dAmplitude(pwa.NestedFunction):\n",
    "    \"\"\"\n",
    "    This is a simple 2D Gauss, but built to use PyPWA's builtin\n",
    "    multiprocessing module. For you, you don't need to worry about thread or\n",
    "    process management, how to pass data between threads, or any of the other\n",
    "    hassles that come with multithreading.\n",
    "    \n",
    "    Instead, you just define your class while extending the NestedFunction,\n",
    "    and when you pass it to the fitter or the simulator, it'll clone your\n",
    "    class, split your data, and deploy to every processing thread your\n",
    "    machine has.\n",
    "    \"\"\"\n",
    "\n",
    "    def __init__(self):\n",
    "        \"\"\"\n",
    "        You can override the init function if you need to set parameters\n",
    "        before the amplitude is passed to the likelihood or simulation\n",
    "        functions. You can see an example of this with the JPAC amplitude\n",
    "        included in the other tutorials. However, you must remember\n",
    "        to always call the `super` function if you do this.\n",
    "        \"\"\"\n",
    "        super(Gauss2dAmplitude, self).__init__()\n",
    "\n",
    "    def setup(self, array):\n",
    "        \"\"\"\n",
    "        This function is where your data is passes too. Here you can also\n",
    "        load any C or Fortran external libraries that typically would not\n",
    "        support being packaged in Python's object pickles.\n",
    "        \"\"\"\n",
    "        self.__x = array[\"x\"]\n",
    "        self.__y = array[\"y\"]\n",
    "\n",
    "    def calculate(self, params):\n",
    "        \"\"\"\n",
    "        This function receives the parameters from the minimizer, and\n",
    "        returns the values from there. Only the amplitude values should\n",
    "        be calculated here. The likelihood will be calculated elsewhere.\n",
    "        \"\"\"\n",
    "        scaling = 1 / (params[\"A2\"] * params[\"A4\"])\n",
    "        left = ((self.__x - params[\"A1\"])**2)/(params[\"A2\"]**2)\n",
    "        right = ((self.__y - params[\"A3\"])**2)/(params[\"A4\"]**2)\n",
    "        return scaling * np.exp(-(left + right))"
   ]
  },
  {
   "cell_type": "code",
   "execution_count": 3,
   "metadata": {
    "pycharm": {
     "name": "#%%\n"
    }
   },
   "outputs": [],
   "source": [
    "class NeGauss2dAmplitude(pwa.NestedFunction):\n",
    "    \"\"\"\n",
    "    This is the same Gauss as above, but instead of using raw numpy, it\n",
    "    uses numexpr, a hyper vectorized, multithreading, numerical package that\n",
    "    should accelerate the calculation of your data.\n",
    "    \n",
    "    USE_MP defaults to True, but you should consider setting it to false.\n",
    "    Numexpr will do some partial multithreading on its own for its\n",
    "    calculations, however any part of your algorithm that is defined outside\n",
    "    Numexpr will not benefit from Numexpr. Due to this, there is an optimum\n",
    "    number of threads for amplitudes with Numexpr that range from 2 threads\n",
    "    to around 80% of the system threads. A good starting point is around\n",
    "    50% of the CPU threads available.\n",
    "    \"\"\"\n",
    "    \n",
    "    USE_MP = False \n",
    "\n",
    "    def setup(self, array):\n",
    "        self.__data = array\n",
    "\n",
    "    def calculate(self, params):\n",
    "        return ne.evaluate(\n",
    "            \"(1/(a2*a4)) * exp(-((((x-a1)**2)/(a2**2))+(((y-a3)**2)/(a4**2))))\",\n",
    "            local_dict={\n",
    "                \"a1\": params[\"A1\"], \"a2\": params[\"A2\"],\n",
    "                \"a3\": params[\"A3\"], \"a4\": params[\"A4\"],\n",
    "                \"x\": self.__data[\"x\"], \"y\": self.__data[\"y\"]\n",
    "            }\n",
    "        )"
   ]
  },
  {
   "cell_type": "code",
   "execution_count": 4,
   "metadata": {
    "pycharm": {
     "name": "#%%\n"
    }
   },
   "outputs": [],
   "source": [
    "import torch as tc\n",
    "\n",
    "class TorchGauss2dAmplitude(pwa.NestedFunction):\n",
    "    \"\"\"\n",
    "    Finally, this is the Torch version of the Gauss2D.\n",
    "    \n",
    "    To utilize Torch, the USE_TORCH flag must be set to True, or the\n",
    "    likelihood will assume that the results will be in standard Numpy\n",
    "    arrays, and not Torch Tensors.\n",
    "\n",
    "    Torch affords us some features that Numpy does not. Specifically,\n",
    "    support for both Apple's Metal Acceleration, and CUDA Acceleration.\n",
    "    For Apple's Metal, there is no work required further than defining\n",
    "    your amplitude in Torch due to the shared memory on Apple systems.\n",
    "    To utilize CUDA, however, you must move the data to the GPU before\n",
    "    the GPU can accelerate the operations. Because of the nature of\n",
    "    CUDA, CUDA and Multiprocessing are not compatible, so you must\n",
    "    disable multiprocessing when using CUDA.\n",
    "\n",
    "    **WARNING** You **MUST** set USE_MP to False if you are using\n",
    "    CUDA as a Torch Device!\n",
    "    \"\"\"\n",
    "\n",
    "    USE_TORCH = True\n",
    "    USE_MP = False\n",
    "\n",
    "    # device is not a flag for Amplitude, but we use it track the current\n",
    "    # device that the amplitude should run on.\n",
    "    device = ...  # type: tc.device\n",
    "\n",
    "    def setup(self, array):\n",
    "        # We want to always set the current device. It also helps to be able\n",
    "        # to toggle GPU on and off for the entire amplitude using the USE_MP,\n",
    "        # flag since the flag can be set after initialization.\n",
    "        if self.USE_MP:\n",
    "            self.device = tc.device(\"cpu\")\n",
    "        else:\n",
    "            self.device = tc.device(\"cuda:0\")\n",
    "\n",
    "        # Since the data is in Pandas, we need to map it to Numpy first\n",
    "        narray = pwa.pandas_to_numpy(array)\n",
    "\n",
    "        self.__x = tc.from_numpy(narray[\"x\"]).to(self.device)\n",
    "        self.__y = tc.from_numpy(narray[\"y\"]).to(self.device)\n",
    "\n",
    "    def calculate(self, params):\n",
    "        scaling = 1 / (params[\"A2\"] * params[\"A4\"])\n",
    "        left = ((self.__x - params[\"A1\"])**2)/(params[\"A2\"]**2)\n",
    "        right = ((self.__y - params[\"A3\"])**2)/(params[\"A4\"]**2)\n",
    "        return scaling * tc.exp(-(left + right))"
   ]
  },
  {
   "cell_type": "markdown",
   "metadata": {
    "pycharm": {
     "name": "#%% md\n"
    }
   },
   "source": [
    "## Using caching for intermediate steps\n",
    "PyPWA's caching module supports caching intermediate steps. The advantage\n",
    "of using the caching module is that saving and loading values is fast; much\n",
    "faster than almost any other solution, and supports almost anything you can\n",
    "store in a variable.\n",
    "\n",
    "PyPWA.cache has two functions in it, `read` and `write`. You can save almost\n",
    "anything in the cache: lists, DataFrames, dictionary's, etc. There is a\n",
    "chance that it won't save the value if the data isn't serializable into a\n",
    "pickle, and it may not be compatible between different versions of python,\n",
    "so I don't recommend using this for data that you can't reproduce. However,\n",
    "if you need to do some feature engineering, or data sanitizing, before you\n",
    "can use the data in whatever way you need and want to keep that data around\n",
    "to speed up future executions, this module will make your life a touch easier.\n",
    "\n",
    "Below, I created a large flat DataFrame, and then binned that DataFrame\n",
    "into 10 bins, each with 1,000,000 events in them. Then, I saved those\n",
    "results into a cache object that will appear in the current working\n",
    "directory with the name \"flat_data.intermediate\".\n",
    "\n",
    "- `pwa.read` returns two values, the first is a boolean that is True only\n",
    "  if it was able to read the pickle, and the second is the parsed data,\n",
    "  which will be None if it was unable to parse anything from the file, or\n",
    "  the file doesn't exist.\n",
    "\n",
    "- `pwa.write` has no returns, but does write the data out in Pickle format\n",
    "   to the provided filename + the \".intermediate\" extension."
   ]
  },
  {
   "cell_type": "code",
   "execution_count": 5,
   "metadata": {
    "pycharm": {
     "name": "#%%\n"
    }
   },
   "outputs": [],
   "source": [
    "valid_cache, binned_flat = pwa.cache.read(\"flat_data\")\n",
    "if not valid_cache:\n",
    "    flat_data = pd.DataFrame()\n",
    "    flat_data[\"x\"] = np.random.rand(10_000_000) * 20\n",
    "    flat_data[\"y\"] = np.random.rand(10_000_000) * 20\n",
    "    flat_data[\"binning\"] = np.random.rand(10_000_000) * 20\n",
    "    binned_flat = pwa.bin_with_fixed_widths(flat_data, \"binning\", 1_000_000)\n",
    "    pwa.cache.write(\"flat_data\", binned_flat)"
   ]
  },
  {
   "cell_type": "markdown",
   "metadata": {
    "pycharm": {
     "name": "#%% md\n"
    }
   },
   "source": [
    "## Simulation with bins\n",
    "Simulation can be run as a whole system, you simply provide the function\n",
    "and data, and it'll return the masked values, or you can run the two steps\n",
    "independently, with the first step returning the intensities, and the\n",
    "second returning the masks. When your working with a single dataset, running\n",
    "it as a single step make sense, however if you bin your data, then running\n",
    "it as two steps is better so that all bins are masked against the same\n",
    "max value of the intensity.\n",
    "\n",
    "- `pwa.simulate.process_user_function` takes all the same arguments as\n",
    "  `pwa.monte_carlo_simulation` so it can be a drop in replacement. The\n",
    "   difference is that this function will return the final values for the\n",
    "   user's function and the max value.\n",
    "- `pwa.simulate.make_rejection_list` takes the final values and either a\n",
    "   single max value, or a list or array of max values, and it'll use the\n",
    "   largest max value. This function will return the same value as\n",
    "  `pwa.monte_carlo_simulation`\n",
    "  \n",
    "Below, I iterate over the bins and produce the final values and max value\n",
    "for each bin and store them in their own lists."
   ]
  },
  {
   "cell_type": "code",
   "execution_count": 6,
   "metadata": {
    "pycharm": {
     "name": "#%%\n"
    }
   },
   "outputs": [],
   "source": [
    "simulation_params = {\n",
    "    \"A1\": 10, \"A2\": 3, \n",
    "    \"A3\": 10, \"A4\": 3\n",
    "}\n",
    "\n",
    "final_values = []\n",
    "max_values = []\n",
    "for fixed_bin in binned_flat:\n",
    "    final, m = pwa.simulate.process_user_function(\n",
    "        TorchGauss2dAmplitude(), fixed_bin, simulation_params\n",
    "    )\n",
    "    final_values.append(final)\n",
    "    max_values.append(m)\n",
    "    \n",
    "pwa.cache.write(\"final_values\", max_values)"
   ]
  },
  {
   "cell_type": "markdown",
   "metadata": {
    "pycharm": {
     "name": "#%% md\n"
    }
   },
   "source": [
    "After the final values have been produced, I use\n",
    "`pwa.simulate.make_rejection_list` to reject events from each bin, and then\n",
    "store the new carved results in a fresh list."
   ]
  },
  {
   "cell_type": "code",
   "execution_count": 7,
   "metadata": {
    "pycharm": {
     "name": "#%%\n"
    }
   },
   "outputs": [],
   "source": [
    "rejected_bins = []\n",
    "masked_final_values = []\n",
    "for final_value, bin_data in zip(final_values, binned_flat):\n",
    "    rejection = pwa.simulate.make_rejection_list(final_value, max_values)\n",
    "    rejected_bins.append(bin_data[rejection])\n",
    "    masked_final_values.append(final_value[rejection])\n",
    "\n",
    "pwa.cache.write(\"fitting_bins\", rejected_bins, True)\n",
    "pwa.cache.write(\"kept_final_values\", masked_final_values, True)"
   ]
  },
  {
   "cell_type": "code",
   "execution_count": 8,
   "metadata": {
    "pycharm": {
     "name": "#%%\n"
    }
   },
   "outputs": [
    {
     "name": "stdout",
     "output_type": "stream",
     "text": [
      "Bin 1's length is 70589, 7.06% events were kept\n",
      "Bin 2's length is 70544, 7.05% events were kept\n",
      "Bin 3's length is 70621, 7.06% events were kept\n",
      "Bin 4's length is 70608, 7.06% events were kept\n",
      "Bin 5's length is 70532, 7.05% events were kept\n",
      "Bin 6's length is 70369, 7.04% events were kept\n",
      "Bin 7's length is 71019, 7.10% events were kept\n",
      "Bin 8's length is 70542, 7.05% events were kept\n",
      "Bin 9's length is 70533, 7.05% events were kept\n",
      "Bin 10's length is 70633, 7.06% events were kept\n"
     ]
    }
   ],
   "source": [
    "for index, simulated_bin in enumerate(rejected_bins):\n",
    "    print(\n",
    "        f\"Bin {index+1}'s length is {len(simulated_bin)}, \"\n",
    "        f\"{(len(simulated_bin) / 1_000_000) * 100:.2f}% events were kept\"\n",
    "    )"
   ]
  },
  {
   "cell_type": "markdown",
   "source": [
    "## How Caching is used by the Read and Write functions\n",
    "If you want your data to be parsable by standard libraries, but still\n",
    "want to leverage the speed of caching, you can use both, by default even!\n",
    "When the Cache Module is used by the Data Module, it utilizes an additional\n",
    "feature that is tucked away when used by itself: File Hashing. The Cache\n",
    "module can be told when it's caching a specific file, so before the cache\n",
    "is created, it will parse the source file to determine it's SHA512 Sum, and\n",
    "then store that inside the cache. When the file is loaded next, the saved\n",
    "SHA512 Sum is compared to the file's current sum, and if they match the\n",
    "cache is returned, otherwise the file is parsed again, and the cache is\n",
    "recreated.\n",
    "\n",
    "After the below cell runs, you'll see two new files created: `first_bin.csv`\n",
    "and `first_bin.cache`. These two files will contain the same data, but if the\n",
    "CSV file is changed, even if just by a single character, the file will be\n",
    "parsed again on the next call of `pwa.read`"
   ],
   "metadata": {
    "collapsed": false,
    "pycharm": {
     "name": "#%% md\n"
    }
   }
  },
  {
   "cell_type": "code",
   "execution_count": 9,
   "outputs": [],
   "source": [
    "try:\n",
    "    first_bin = pwa.read(\"first_bin.csv\")\n",
    "except Exception:\n",
    "    first_bin = binned_flat[0]\n",
    "    pwa.write(\"first_bin.csv\", binned_flat[0])"
   ],
   "metadata": {
    "collapsed": false,
    "pycharm": {
     "name": "#%%\n"
    }
   }
  },
  {
   "cell_type": "markdown",
   "metadata": {
    "pycharm": {
     "name": "#%% md\n"
    }
   },
   "source": [
    "## Fitting\n",
    "While you can use PyPWA's likelihoods with any minimizer, PyPWA supports\n",
    "Iminuit 2.X out of the box. The first thing that is done is we set up\n",
    "the parameters to fit against, as well as the individual names of each\n",
    "parameter.\n",
    "\n",
    "Traditionally, iminuit works by reading the values from the provided\n",
    "function to guess what the parameters are and what to pass to the function,\n",
    "however since we wrap the minimized function to take advantage of GPU\n",
    "acceleration and multiprocessing, you must also tell iMinuit what the\n",
    "values are directly."
   ]
  },
  {
   "cell_type": "code",
   "execution_count": 10,
   "metadata": {
    "pycharm": {
     "name": "#%%\n"
    }
   },
   "outputs": [],
   "source": [
    "fitting_settings = {\n",
    "    \"A1\": 1, \"A2\": 1,\n",
    "    \"A3\": 1, \"A4\": 1,\n",
    "}"
   ]
  },
  {
   "cell_type": "markdown",
   "metadata": {
    "pycharm": {
     "name": "#%% md\n"
    }
   },
   "source": [
    "Then below, we can simply fit those values."
   ]
  },
  {
   "cell_type": "code",
   "execution_count": 11,
   "metadata": {
    "pycharm": {
     "name": "#%%\n"
    }
   },
   "outputs": [],
   "source": [
    "import multiprocessing as mp\n",
    "# Even though we're using Numexpr, I do want to take advantage of both\n",
    "# multiprocessing and Numexpr's low level optimizations. So by selecting\n",
    "# a small number of processes with Numexpr, you still get an overall\n",
    "# speedup over either Numexpr or regular multiprocessing\n",
    "NeGauss2dAmplitude.USE_MP = True\n",
    "\n",
    "cpu_final_values= []\n",
    "for simulated_bin in rejected_bins:\n",
    "    with pwa.LogLikelihood(\n",
    "            NeGauss2dAmplitude(), simulated_bin,\n",
    "            num_of_processes=int(mp.cpu_count() / 2)\n",
    "    ) as likelihood:\n",
    "        optimizer = pwa.minuit(fitting_settings, likelihood)\n",
    "\n",
    "        for param in [\"A1\", \"A3\"]:\n",
    "            optimizer.limits[param] = (.1, None)\n",
    "\n",
    "        for param in [\"A2\", \"A4\"]:\n",
    "            optimizer.limits[param] = (1, None)\n",
    "\n",
    "        cpu_final_values.append(optimizer.migrad())"
   ]
  },
  {
   "cell_type": "code",
   "execution_count": 12,
   "metadata": {
    "pycharm": {
     "name": "#%%\n"
    }
   },
   "outputs": [],
   "source": [
    "gpu_final_values = []\n",
    "for simulated_bin in rejected_bins:\n",
    "    with pwa.LogLikelihood(TorchGauss2dAmplitude(), simulated_bin) as likelihood:\n",
    "        optimizer = pwa.minuit(fitting_settings, likelihood)\n",
    "\n",
    "        for param in [\"A1\", \"A3\"]:\n",
    "            optimizer.limits[param] = (.1, None)\n",
    "\n",
    "        for param in [\"A2\", \"A4\"]:\n",
    "            optimizer.limits[param] = (1, None)\n",
    "\n",
    "        gpu_final_values.append(optimizer.migrad())"
   ]
  },
  {
   "cell_type": "markdown",
   "source": [
    "## A note about `with`\n",
    "If you are new to Python, the with statement might be new to\n",
    "you. `with` allows you to create objects that should be closed.\n",
    "Traditionally, you will see `with` used with files, but we use\n",
    "this with Likelihoods. In the file case, when you leave the `with`\n",
    "block it will flush the buffers for you and close the file's handle.\n",
    "In the case of Likelihoods, when you leave the `with` block it will\n",
    "shut down any associated threads, processes, and pipes that are\n",
    "associated with the created Likelihood.\n",
    "\n",
    "Below is an example of how the Likelihood works without using the\n",
    "`with` statement."
   ],
   "metadata": {
    "collapsed": false,
    "pycharm": {
     "name": "#%% md\n"
    }
   }
  },
  {
   "cell_type": "code",
   "execution_count": 13,
   "outputs": [],
   "source": [
    "for simulated_bin in rejected_bins:\n",
    "    likeihood = pwa.LogLikelihood(TorchGauss2dAmplitude(), simulated_bin)\n",
    "    optimizer = pwa.minuit(fitting_settings, likelihood)\n",
    "\n",
    "    for param in [\"A1\", \"A3\"]:\n",
    "        optimizer.limits[param] = (.1, None)\n",
    "\n",
    "    for param in [\"A2\", \"A4\"]:\n",
    "        optimizer.limits[param] = (1, None)\n",
    "\n",
    "    # You must remember to close the Likelihood when not using the 'with' block!\n",
    "    likeihood.close()"
   ],
   "metadata": {
    "collapsed": false,
    "pycharm": {
     "name": "#%%\n"
    }
   }
  },
  {
   "cell_type": "markdown",
   "metadata": {
    "pycharm": {
     "name": "#%% md\n"
    }
   },
   "source": [
    "## Issues with PyPWA.cache\n",
    "There are some values that can not be saved in a PyPWA's cache. Typically, it's\n",
    "an object from a package that takes advantage of Cython or Fortran to\n",
    "accelerate its execution: either because the values are stored as pointers\n",
    "to arrays, or uses C types too deep for Python's interpreter to analyze. A good\n",
    "example of this case is results from Iminuit.\n",
    "\n",
    "As you can see below, a Runtime Warning is thrown from PyPWA's caching module\n",
    "about how the data can't be saved. However, the real error is that the tuple\n",
    "has values that can not be converted to a pure Python object for pickling."
   ]
  },
  {
   "cell_type": "code",
   "execution_count": 14,
   "metadata": {
    "pycharm": {
     "name": "#%%\n"
    }
   },
   "outputs": [
    {
     "name": "stdout",
     "output_type": "stream",
     "text": [
      "Caught a cache error\n",
      "<class 'RuntimeWarning'>: Your data can not be saved in cache!\n"
     ]
    }
   ],
   "source": [
    "try:\n",
    "    pwa.cache.write(\"fitting_results\", cpu_final_values, True)\n",
    "except RuntimeWarning as error:\n",
    "    print(\"Caught a cache error\")\n",
    "    print(f\"{type(error)}: {error}\")"
   ]
  },
  {
   "cell_type": "markdown",
   "metadata": {
    "pycharm": {
     "name": "#%% md\n"
    }
   },
   "source": [
    "## Viewing the results\n",
    "Finally, we can see what the results of the fitting. The result objects from\n",
    "iminuit are actually Jupyter aware, so if you view a result from iminuit in\n",
    "Jupyter, the values will be responsive.\n",
    "\n",
    "If you want to know what methods and parameters are available the result\n",
    "object returned by iminuit, you should read through their\n",
    "(documentation)[https://iminuit.readthedocs.io/]\n"
   ]
  },
  {
   "cell_type": "code",
   "execution_count": 15,
   "metadata": {
    "pycharm": {
     "name": "#%%\n"
    }
   },
   "outputs": [
    {
     "name": "stdout",
     "output_type": "stream",
     "text": [
      "CPU bin 1\n"
     ]
    },
    {
     "data": {
      "text/plain": "┌─────────────────────────────────────────────────────────────────────────┐\n│                                Migrad                                   │\n├──────────────────────────────────┬──────────────────────────────────────┤\n│ FCN = 2.259e+05                  │              Nfcn = 231              │\n│ EDM = 5.29e-07 (Goal: 0.0001)    │                                      │\n├──────────────────────────────────┼──────────────────────────────────────┤\n│          Valid Minimum           │        No Parameters at limit        │\n├──────────────────────────────────┼──────────────────────────────────────┤\n│ Below EDM threshold (goal x 10)  │           Below call limit           │\n├───────────────┬──────────────────┼───────────┬─────────────┬────────────┤\n│  Covariance   │     Hesse ok     │ Accurate  │  Pos. def.  │ Not forced │\n└───────────────┴──────────────────┴───────────┴─────────────┴────────────┘\n┌───┬──────┬───────────┬───────────┬────────────┬────────────┬─────────┬─────────┬───────┐\n│   │ Name │   Value   │ Hesse Err │ Minos Err- │ Minos Err+ │ Limit-  │ Limit+  │ Fixed │\n├───┼──────┼───────────┼───────────┼────────────┼────────────┼─────────┼─────────┼───────┤\n│ 0 │ A1   │  10.005   │   0.008   │            │            │   0.1   │         │       │\n│ 1 │ A2   │   3.003   │   0.008   │            │            │    1    │         │       │\n│ 2 │ A3   │   9.995   │   0.008   │            │            │   0.1   │         │       │\n│ 3 │ A4   │   3.006   │   0.008   │            │            │    1    │         │       │\n└───┴──────┴───────────┴───────────┴────────────┴────────────┴─────────┴─────────┴───────┘\n┌────┬─────────────────────────────────────────┐\n│    │        A1        A2        A3        A4 │\n├────┼─────────────────────────────────────────┤\n│ A1 │  6.39e-05  5.59e-08  8.65e-14  8.61e-14 │\n│ A2 │  5.59e-08  6.39e-05  6.89e-14 -3.45e-13 │\n│ A3 │  8.65e-14  6.89e-14   6.4e-05  5.57e-08 │\n│ A4 │  8.61e-14 -3.45e-13  5.57e-08   6.4e-05 │\n└────┴─────────────────────────────────────────┘",
      "text/html": "<table>\n    <tr>\n        <th colspan=\"5\" style=\"text-align:center\" title=\"Minimizer\"> Migrad </th>\n    </tr>\n    <tr>\n        <td colspan=\"2\" style=\"text-align:left\" title=\"Minimum value of function\"> FCN = 2.259e+05 </td>\n        <td colspan=\"3\" style=\"text-align:center\" title=\"No. of function evaluations in last call and total number\"> Nfcn = 231 </td>\n    </tr>\n    <tr>\n        <td colspan=\"2\" style=\"text-align:left\" title=\"Estimated distance to minimum and goal\"> EDM = 5.29e-07 (Goal: 0.0001) </td>\n        <td colspan=\"3\" style=\"text-align:center\" title=\"No. of gradient evaluations in last call and total number\">  </td>\n    </tr>\n    <tr>\n        <td colspan=\"2\" style=\"text-align:center;background-color:#92CCA6;color:black\"> Valid Minimum </td>\n        <td colspan=\"3\" style=\"text-align:center;background-color:#92CCA6;color:black\"> No Parameters at limit </td>\n    </tr>\n    <tr>\n        <td colspan=\"2\" style=\"text-align:center;background-color:#92CCA6;color:black\"> Below EDM threshold (goal x 10) </td>\n        <td colspan=\"3\" style=\"text-align:center;background-color:#92CCA6;color:black\"> Below call limit </td>\n    </tr>\n    <tr>\n        <td style=\"text-align:center;background-color:#92CCA6;color:black\"> Covariance </td>\n        <td style=\"text-align:center;background-color:#92CCA6;color:black\"> Hesse ok </td>\n        <td style=\"text-align:center;background-color:#92CCA6;color:black\" title=\"Is covariance matrix accurate?\"> Accurate </td>\n        <td style=\"text-align:center;background-color:#92CCA6;color:black\" title=\"Is covariance matrix positive definite?\"> Pos. def. </td>\n        <td style=\"text-align:center;background-color:#92CCA6;color:black\" title=\"Was positive definiteness enforced by Minuit?\"> Not forced </td>\n    </tr>\n</table><table>\n    <tr>\n        <td></td>\n        <th title=\"Variable name\"> Name </th>\n        <th title=\"Value of parameter\"> Value </th>\n        <th title=\"Hesse error\"> Hesse Error </th>\n        <th title=\"Minos lower error\"> Minos Error- </th>\n        <th title=\"Minos upper error\"> Minos Error+ </th>\n        <th title=\"Lower limit of the parameter\"> Limit- </th>\n        <th title=\"Upper limit of the parameter\"> Limit+ </th>\n        <th title=\"Is the parameter fixed in the fit\"> Fixed </th>\n    </tr>\n    <tr>\n        <th> 0 </th>\n        <td> A1 </td>\n        <td> 10.005 </td>\n        <td> 0.008 </td>\n        <td>  </td>\n        <td>  </td>\n        <td> 0.1 </td>\n        <td>  </td>\n        <td>  </td>\n    </tr>\n    <tr>\n        <th> 1 </th>\n        <td> A2 </td>\n        <td> 3.003 </td>\n        <td> 0.008 </td>\n        <td>  </td>\n        <td>  </td>\n        <td> 1 </td>\n        <td>  </td>\n        <td>  </td>\n    </tr>\n    <tr>\n        <th> 2 </th>\n        <td> A3 </td>\n        <td> 9.995 </td>\n        <td> 0.008 </td>\n        <td>  </td>\n        <td>  </td>\n        <td> 0.1 </td>\n        <td>  </td>\n        <td>  </td>\n    </tr>\n    <tr>\n        <th> 3 </th>\n        <td> A4 </td>\n        <td> 3.006 </td>\n        <td> 0.008 </td>\n        <td>  </td>\n        <td>  </td>\n        <td> 1 </td>\n        <td>  </td>\n        <td>  </td>\n    </tr>\n</table><table>\n    <tr>\n        <td></td>\n        <th> A1 </th>\n        <th> A2 </th>\n        <th> A3 </th>\n        <th> A4 </th>\n    </tr>\n    <tr>\n        <th> A1 </th>\n        <td> 6.39e-05 </td>\n        <td style=\"background-color:rgb(250,250,250);color:black\"> 5.59e-08 </td>\n        <td style=\"background-color:rgb(250,250,250);color:black\"> 8.65e-14 </td>\n        <td style=\"background-color:rgb(250,250,250);color:black\"> 8.61e-14 </td>\n    </tr>\n    <tr>\n        <th> A2 </th>\n        <td style=\"background-color:rgb(250,250,250);color:black\"> 5.59e-08 </td>\n        <td> 6.39e-05 </td>\n        <td style=\"background-color:rgb(250,250,250);color:black\"> 6.89e-14 </td>\n        <td style=\"background-color:rgb(250,250,250);color:black\"> -3.45e-13 </td>\n    </tr>\n    <tr>\n        <th> A3 </th>\n        <td style=\"background-color:rgb(250,250,250);color:black\"> 8.65e-14 </td>\n        <td style=\"background-color:rgb(250,250,250);color:black\"> 6.89e-14 </td>\n        <td> 6.4e-05 </td>\n        <td style=\"background-color:rgb(250,250,250);color:black\"> 5.57e-08 </td>\n    </tr>\n    <tr>\n        <th> A4 </th>\n        <td style=\"background-color:rgb(250,250,250);color:black\"> 8.61e-14 </td>\n        <td style=\"background-color:rgb(250,250,250);color:black\"> -3.45e-13 </td>\n        <td style=\"background-color:rgb(250,250,250);color:black\"> 5.57e-08 </td>\n        <td> 6.4e-05 </td>\n    </tr>\n</table>"
     },
     "execution_count": 15,
     "metadata": {},
     "output_type": "execute_result"
    }
   ],
   "source": [
    "print(f\"CPU bin 1\")\n",
    "cpu_final_values[0]"
   ]
  },
  {
   "cell_type": "code",
   "execution_count": 16,
   "outputs": [
    {
     "name": "stdout",
     "output_type": "stream",
     "text": [
      "GPU bin 1\n"
     ]
    },
    {
     "data": {
      "text/plain": "┌─────────────────────────────────────────────────────────────────────────┐\n│                                Migrad                                   │\n├──────────────────────────────────┬──────────────────────────────────────┤\n│ FCN = 2.259e+05                  │              Nfcn = 231              │\n│ EDM = 5.29e-07 (Goal: 0.0001)    │                                      │\n├──────────────────────────────────┼──────────────────────────────────────┤\n│          Valid Minimum           │        No Parameters at limit        │\n├──────────────────────────────────┼──────────────────────────────────────┤\n│ Below EDM threshold (goal x 10)  │           Below call limit           │\n├───────────────┬──────────────────┼───────────┬─────────────┬────────────┤\n│  Covariance   │     Hesse ok     │ Accurate  │  Pos. def.  │ Not forced │\n└───────────────┴──────────────────┴───────────┴─────────────┴────────────┘\n┌───┬──────┬───────────┬───────────┬────────────┬────────────┬─────────┬─────────┬───────┐\n│   │ Name │   Value   │ Hesse Err │ Minos Err- │ Minos Err+ │ Limit-  │ Limit+  │ Fixed │\n├───┼──────┼───────────┼───────────┼────────────┼────────────┼─────────┼─────────┼───────┤\n│ 0 │ A1   │  10.005   │   0.008   │            │            │   0.1   │         │       │\n│ 1 │ A2   │   3.003   │   0.008   │            │            │    1    │         │       │\n│ 2 │ A3   │   9.995   │   0.008   │            │            │   0.1   │         │       │\n│ 3 │ A4   │   3.006   │   0.008   │            │            │    1    │         │       │\n└───┴──────┴───────────┴───────────┴────────────┴────────────┴─────────┴─────────┴───────┘\n┌────┬─────────────────────────────────────┐\n│    │       A1       A2       A3       A4 │\n├────┼─────────────────────────────────────┤\n│ A1 │ 6.39e-05 5.59e-08        0       -0 │\n│ A2 │ 5.59e-08 6.39e-05       -0        0 │\n│ A3 │        0       -0  6.4e-05 5.57e-08 │\n│ A4 │       -0        0 5.57e-08  6.4e-05 │\n└────┴─────────────────────────────────────┘",
      "text/html": "<table>\n    <tr>\n        <th colspan=\"5\" style=\"text-align:center\" title=\"Minimizer\"> Migrad </th>\n    </tr>\n    <tr>\n        <td colspan=\"2\" style=\"text-align:left\" title=\"Minimum value of function\"> FCN = 2.259e+05 </td>\n        <td colspan=\"3\" style=\"text-align:center\" title=\"No. of function evaluations in last call and total number\"> Nfcn = 231 </td>\n    </tr>\n    <tr>\n        <td colspan=\"2\" style=\"text-align:left\" title=\"Estimated distance to minimum and goal\"> EDM = 5.29e-07 (Goal: 0.0001) </td>\n        <td colspan=\"3\" style=\"text-align:center\" title=\"No. of gradient evaluations in last call and total number\">  </td>\n    </tr>\n    <tr>\n        <td colspan=\"2\" style=\"text-align:center;background-color:#92CCA6;color:black\"> Valid Minimum </td>\n        <td colspan=\"3\" style=\"text-align:center;background-color:#92CCA6;color:black\"> No Parameters at limit </td>\n    </tr>\n    <tr>\n        <td colspan=\"2\" style=\"text-align:center;background-color:#92CCA6;color:black\"> Below EDM threshold (goal x 10) </td>\n        <td colspan=\"3\" style=\"text-align:center;background-color:#92CCA6;color:black\"> Below call limit </td>\n    </tr>\n    <tr>\n        <td style=\"text-align:center;background-color:#92CCA6;color:black\"> Covariance </td>\n        <td style=\"text-align:center;background-color:#92CCA6;color:black\"> Hesse ok </td>\n        <td style=\"text-align:center;background-color:#92CCA6;color:black\" title=\"Is covariance matrix accurate?\"> Accurate </td>\n        <td style=\"text-align:center;background-color:#92CCA6;color:black\" title=\"Is covariance matrix positive definite?\"> Pos. def. </td>\n        <td style=\"text-align:center;background-color:#92CCA6;color:black\" title=\"Was positive definiteness enforced by Minuit?\"> Not forced </td>\n    </tr>\n</table><table>\n    <tr>\n        <td></td>\n        <th title=\"Variable name\"> Name </th>\n        <th title=\"Value of parameter\"> Value </th>\n        <th title=\"Hesse error\"> Hesse Error </th>\n        <th title=\"Minos lower error\"> Minos Error- </th>\n        <th title=\"Minos upper error\"> Minos Error+ </th>\n        <th title=\"Lower limit of the parameter\"> Limit- </th>\n        <th title=\"Upper limit of the parameter\"> Limit+ </th>\n        <th title=\"Is the parameter fixed in the fit\"> Fixed </th>\n    </tr>\n    <tr>\n        <th> 0 </th>\n        <td> A1 </td>\n        <td> 10.005 </td>\n        <td> 0.008 </td>\n        <td>  </td>\n        <td>  </td>\n        <td> 0.1 </td>\n        <td>  </td>\n        <td>  </td>\n    </tr>\n    <tr>\n        <th> 1 </th>\n        <td> A2 </td>\n        <td> 3.003 </td>\n        <td> 0.008 </td>\n        <td>  </td>\n        <td>  </td>\n        <td> 1 </td>\n        <td>  </td>\n        <td>  </td>\n    </tr>\n    <tr>\n        <th> 2 </th>\n        <td> A3 </td>\n        <td> 9.995 </td>\n        <td> 0.008 </td>\n        <td>  </td>\n        <td>  </td>\n        <td> 0.1 </td>\n        <td>  </td>\n        <td>  </td>\n    </tr>\n    <tr>\n        <th> 3 </th>\n        <td> A4 </td>\n        <td> 3.006 </td>\n        <td> 0.008 </td>\n        <td>  </td>\n        <td>  </td>\n        <td> 1 </td>\n        <td>  </td>\n        <td>  </td>\n    </tr>\n</table><table>\n    <tr>\n        <td></td>\n        <th> A1 </th>\n        <th> A2 </th>\n        <th> A3 </th>\n        <th> A4 </th>\n    </tr>\n    <tr>\n        <th> A1 </th>\n        <td> 6.39e-05 </td>\n        <td style=\"background-color:rgb(250,250,250);color:black\"> 5.59e-08 </td>\n        <td style=\"background-color:rgb(250,250,250);color:black\"> 0 </td>\n        <td style=\"background-color:rgb(250,250,250);color:black\"> -0 </td>\n    </tr>\n    <tr>\n        <th> A2 </th>\n        <td style=\"background-color:rgb(250,250,250);color:black\"> 5.59e-08 </td>\n        <td> 6.39e-05 </td>\n        <td style=\"background-color:rgb(250,250,250);color:black\"> -0 </td>\n        <td style=\"background-color:rgb(250,250,250);color:black\"> 0 </td>\n    </tr>\n    <tr>\n        <th> A3 </th>\n        <td style=\"background-color:rgb(250,250,250);color:black\"> 0 </td>\n        <td style=\"background-color:rgb(250,250,250);color:black\"> -0 </td>\n        <td> 6.4e-05 </td>\n        <td style=\"background-color:rgb(250,250,250);color:black\"> 5.57e-08 </td>\n    </tr>\n    <tr>\n        <th> A4 </th>\n        <td style=\"background-color:rgb(250,250,250);color:black\"> -0 </td>\n        <td style=\"background-color:rgb(250,250,250);color:black\"> 0 </td>\n        <td style=\"background-color:rgb(250,250,250);color:black\"> 5.57e-08 </td>\n        <td> 6.4e-05 </td>\n    </tr>\n</table>"
     },
     "metadata": {},
     "output_type": "display_data"
    }
   ],
   "source": [
    "print(f\"GPU bin 1\")\n",
    "display(gpu_final_values[0])"
   ],
   "metadata": {
    "collapsed": false,
    "pycharm": {
     "name": "#%%\n"
    }
   }
  }
 ],
 "metadata": {
  "kernelspec": {
   "display_name": "Python 3",
   "language": "python",
   "name": "python3"
  },
  "language_info": {
   "codemirror_mode": {
    "name": "ipython",
    "version": 3
   },
   "file_extension": ".py",
   "mimetype": "text/x-python",
   "name": "python",
   "nbconvert_exporter": "python",
   "pygments_lexer": "ipython3",
   "version": "3.8.8"
  }
 },
 "nbformat": 4,
 "nbformat_minor": 4
}